{
 "cells": [
  {
   "cell_type": "markdown",
   "metadata": {},
   "source": [
    "# asyncio"
   ]
  },
  {
   "cell_type": "code",
   "execution_count": 31,
   "metadata": {},
   "outputs": [],
   "source": [
    "import asyncio\n",
    "import random\n",
    "from time import time\n",
    "\n"
   ]
  },
  {
   "cell_type": "markdown",
   "metadata": {},
   "source": [
    "asyncio works by gathering tasks (coroutines, futures) and then running an event loop\n",
    "When a task is blocked waiting for some io (await), the next task is then allowed to execute\n",
    "until it is blocked, and so on. The return of the event loop is a list of the return\n",
    "values of each of the coroutines. All results are returned at the same time after the\n",
    "longest running coroutine is complete. This is much faster than waiting for each to \n",
    "complete in turn."
   ]
  },
  {
   "cell_type": "code",
   "execution_count": 32,
   "metadata": {},
   "outputs": [],
   "source": [
    "async def coro(id: int) -> str:  # coroutine that would go and get some data\n",
    "    t = random.randint(1,5)\n",
    "    await asyncio.sleep(t)  # would await some response IRL\n",
    "    return f'coroutine {id} done after {t}s', t"
   ]
  },
  {
   "cell_type": "code",
   "execution_count": 33,
   "metadata": {},
   "outputs": [],
   "source": [
    "async def main() -> asyncio.Future:  # coroutine which gathers tasks, awaits completion, and returns the result\n",
    "    tasks = []\n",
    "    for i in range(5):\n",
    "        tasks.append(asyncio.create_task(coro(i)))\n",
    "        \n",
    "    return await asyncio.gather(*tasks)"
   ]
  },
  {
   "cell_type": "markdown",
   "metadata": {},
   "source": [
    "**NOTE: In regular python you have to call asyncio.run(main()) but Jupyter is already running an event loop so it would cause an error here**"
   ]
  },
  {
   "cell_type": "code",
   "execution_count": 34,
   "metadata": {},
   "outputs": [
    {
     "name": "stdout",
     "output_type": "stream",
     "text": [
      "coroutine 0 done after 3s\n",
      "coroutine 1 done after 3s\n",
      "coroutine 2 done after 4s\n",
      "coroutine 3 done after 5s\n",
      "coroutine 4 done after 5s\n",
      "executed in 5s\n"
     ]
    }
   ],
   "source": [
    "start = time()\n",
    "r = await main() # runs the main() future and returns its agg of coroutine results\n",
    "end = time()\n",
    "\n",
    "r, t = zip(*r)\n",
    "for result in r:\n",
    "    print(result)\n",
    "\n",
    "print(f'executed in {round(end - start)}s')"
   ]
  },
  {
   "cell_type": "code",
   "execution_count": 35,
   "metadata": {},
   "outputs": [
    {
     "name": "stdout",
     "output_type": "stream",
     "text": [
      "would have taken 20s synchronously\n"
     ]
    }
   ],
   "source": [
    "print(f'would have taken {sum(t)}s synchronously')"
   ]
  },
  {
   "cell_type": "markdown",
   "metadata": {},
   "source": [
    "This would have taken {{t - round(end-start)}}s longer"
   ]
  }
 ],
 "metadata": {
  "kernelspec": {
   "display_name": "Python 3",
   "language": "python",
   "name": "python3"
  },
  "language_info": {
   "codemirror_mode": {
    "name": "ipython",
    "version": 3
   },
   "file_extension": ".py",
   "mimetype": "text/x-python",
   "name": "python",
   "nbconvert_exporter": "python",
   "pygments_lexer": "ipython3",
   "version": "3.7.2"
  }
 },
 "nbformat": 4,
 "nbformat_minor": 2
}
